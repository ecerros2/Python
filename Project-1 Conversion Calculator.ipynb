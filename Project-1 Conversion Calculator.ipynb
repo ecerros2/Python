{
 "cells": [
  {
   "cell_type": "code",
   "execution_count": 4,
   "metadata": {},
   "outputs": [],
   "source": [
    "convert_from = input(\"Enter Starting Unit of Measurement(inches, feet, yards): \")\n",
    "\n",
    "convert_to = input(\"Enter Unit of Measurement to convert to(inches, feet, yards): \")\n",
    "\n",
    "number_of_inches = input(\"Enter Starting Measurement in Inches: \")\n",
    "\n",
    "number_of_feet = input(\"Enter Starting Measurement in Feet: \")\n",
    "\n",
    "number_of_yards= input(\"Enter Starting Measurement in Yards: \")"
   ]
  },
  {
   "cell_type": "code",
   "execution_count": 8,
   "metadata": {},
   "outputs": [
    {
     "name": "stdout",
     "output_type": "stream",
     "text": [
      "8.0\n"
     ]
    }
   ],
   "source": [
    "#Version 1 \n",
    "convert_from = input(\"Enter Starting Unit of Measurement(inches, feet, yards): \")\n",
    "\n",
    "convert_to = input(\"Enter Unit of Measurement to convert to(inches, feet, yards): \")\n",
    "\n",
    "if convert_from == \"inches\":\n",
    "    number_of_inches = int(input(\"Enter Starting Measurement in Inches: \"))\n",
    "if convert_to == 'feet':\n",
    "    print(number_of_inches / 12) "
   ]
  },
  {
   "cell_type": "code",
   "execution_count": 17,
   "metadata": {},
   "outputs": [
    {
     "name": "stdout",
     "output_type": "stream",
     "text": [
      "27\n"
     ]
    }
   ],
   "source": [
    "#Version 2  \n",
    "convert_from = input(\"Enter Starting Unit of Measurement(inches, feet, yards): \")\n",
    "\n",
    "convert_to = input(\"Enter Unit of Measurement to convert to(inches, feet, yards): \")\n",
    "\n",
    "if convert_from == \"inches\":\n",
    "    number_of_inches = int(input(\"Enter Starting Measurement in Inches: \"))\n",
    "    if convert_to == 'feet':\n",
    "        print(number_of_inches / 12) \n",
    "    elif convert_to == 'yards':\n",
    "        print(number_of_inches / 36)\n",
    "    else:\n",
    "        print(\"Incorrect Input\")\n",
    "\n",
    "if convert_from == \"feet\":\n",
    "    number_of_feet = int(input(\"Enter Starting Measurement in feet: \"))\n",
    "    if convert_to == 'inches':\n",
    "        print(number_of_feet * 12)\n",
    "    elif convert_to == 'yards':\n",
    "        print(number_of_feet * 3)\n",
    "else:\n",
    "    print(\"Incorrect Input\")\n"
   ]
  },
  {
   "cell_type": "code",
   "execution_count": 7,
   "metadata": {},
   "outputs": [
    {
     "name": "stdout",
     "output_type": "stream",
     "text": [
      "9\n"
     ]
    }
   ],
   "source": [
    "#Version 3\n",
    "convert_from = input(\"Enter Starting Unit of Measurement(inches, feet, yards): \")\n",
    "\n",
    "convert_to = input(\"Enter Unit of Measurement to convert to(inches, feet, yards): \")\n",
    "\n",
    "if convert_from == \"inches\":\n",
    "    number_of_inches = int(input(\"Enter Starting Measurement in Inches: \"))\n",
    "    if convert_to == 'feet':\n",
    "        print(number_of_inches / 12) \n",
    "    elif convert_to == 'yards':\n",
    "        print(number_of_inches / 36)\n",
    "    else:\n",
    "        print(\"Incorrect Input\")\n",
    "\n",
    "if convert_from == \"feet\":\n",
    "    number_of_feet = int(input(\"Enter Starting Measurement in feet: \"))\n",
    "    if convert_to == 'inches':\n",
    "        print(number_of_feet * 12)\n",
    "    elif convert_to == 'yards':\n",
    "        print(number_of_feet / 3)\n",
    "    else:\n",
    "        print(\"Incorrect Input\")\n",
    "\n",
    "if convert_from == 'yards':\n",
    "    number_of_yards = int(input(\"Enter Starting Measurement in Yards: \"))\n",
    "    if convert_to == 'inches':\n",
    "        print(number_of_yards * 36)\n",
    "    elif convert_to == 'feet':\n",
    "        print(number_of_yards * 3)\n",
    "    else:\n",
    "        print(\"Incorrect Input\")"
   ]
  },
  {
   "cell_type": "code",
   "execution_count": 9,
   "metadata": {},
   "outputs": [
    {
     "name": "stdout",
     "output_type": "stream",
     "text": [
      "144\n"
     ]
    }
   ],
   "source": [
    "#Version 4\n",
    "convert_from = input(\"Enter Starting Unit of Measurement(inches, feet, yards): \")\n",
    "\n",
    "convert_to = input(\"Enter Unit of Measurement to convert to(inches, feet, yards): \")\n",
    "\n",
    "if convert_from.lower() in [\"inches\", \"in\", \"inch\"]:\n",
    "    number_of_inches = int(input(\"Enter Starting Measurement in Inches: \"))\n",
    "    if convert_to.lower() in [\"feet\",\"foot\", \"foots\", \"ft\"]:\n",
    "        print(number_of_inches / 12) \n",
    "    elif convert_to.lower() in ['yards','yard', 'yds']:\n",
    "        print(number_of_inches / 36)\n",
    "    else:\n",
    "        print(\"Incorrect Input\")\n",
    "\n",
    "if convert_from.lower() in [\"feet\",\"foot\", \"foots\", \"ft\"]: \n",
    "    number_of_feet = int(input(\"Enter Starting Measurement in feet: \"))\n",
    "    if convert_to.lower() in [\"inches\", \"in\", \"inch\"]:\n",
    "        print(number_of_feet * 12)\n",
    "    elif convert_to.lower() in ['yards','yard', 'yds']:\n",
    "        print(number_of_feet / 3)\n",
    "    else:\n",
    "        print(\"Incorrect Input\")\n",
    "\n",
    "if convert_from.lower() in ['yards','yard', 'yds']:\n",
    "    number_of_yards = int(input(\"Enter Starting Measurement in Yards: \"))\n",
    "    if convert_to.lower() in [\"inches\", \"in\", \"inch\"]:\n",
    "        print(number_of_yards * 36)\n",
    "    elif convert_to.lower() in [\"feet\",\"foot\", \"foots\", \"ft\"]:\n",
    "        print(number_of_yards * 3)\n",
    "    else:\n",
    "        print(\"Incorrect Input\")"
   ]
  },
  {
   "cell_type": "code",
   "execution_count": 18,
   "metadata": {},
   "outputs": [
    {
     "name": "stdout",
     "output_type": "stream",
     "text": [
      "Results: 3 Yards = 108 Inches\n"
     ]
    }
   ],
   "source": [
    "#Version 4\n",
    "convert_from = input(\"Enter Starting Unit of Measurement(inches, feet, yards): \")\n",
    "\n",
    "convert_to = input(\"Enter Unit of Measurement to convert to(inches, feet, yards): \")\n",
    "\n",
    "if convert_from.lower() in [\"inches\", \"in\", \"inch\"]:\n",
    "    number_of_inches = int(input(\"Enter Starting Measurement in Inches: \"))\n",
    "    if convert_to.lower() in [\"feet\",\"foot\", \"foots\", \"ft\"]:\n",
    "        print(\"Result: \" + str(number_of_inches) + \" Inches = \" + str(number_of_inches / 12) + \" Feet\")\n",
    "    elif convert_to.lower() in ['yards','yard', 'yds']:\n",
    "        print(\"Result: \" + str(number_of_inches) + \" Inches = \" + str(number_of_inches / 36) + \" Yards\")\n",
    "    else:\n",
    "        print(\"Incorrect Input\")\n",
    "\n",
    "if convert_from.lower() in [\"feet\",\"foot\", \"foots\", \"ft\"]: \n",
    "    number_of_feet = int(input(\"Enter Starting Measurement in feet: \"))\n",
    "    if convert_to.lower() in [\"inches\", \"in\", \"inch\"]:\n",
    "        print(\"Result: \" + str(number_of_feet) + \"Feet = \" + str(number_of_feet * 12) + \" Inches\")\n",
    "    elif convert_to.lower() in ['yards','yard', 'yds']:\n",
    "        print(\"Results: \" + str(number_of_feet) + \" Feet = \" + str(number_of_feet / 3) + \" Yards\")\n",
    "    else:\n",
    "        print(\"Incorrect Input\")\n",
    "\n",
    "if convert_from.lower() in ['yards','yard', 'yds']:\n",
    "    number_of_yards = int(input(\"Enter Starting Measurement in Yards: \"))\n",
    "    if convert_to.lower() in [\"inches\", \"in\", \"inch\"]:\n",
    "        print(\"Results: \" + str(number_of_yards) + \" Yards = \" + str(number_of_yards * 36) + \" Inches\")\n",
    "    elif convert_to.lower() in [\"feet\",\"foot\", \"foots\", \"ft\"]:\n",
    "        print(\"Results: \" + str(number_of_yards) + \" Yards = \" + str(number_of_yards * 3) + \" Feet\")\n",
    "    else:\n",
    "        print(\"Incorrect Input\")"
   ]
  }
 ],
 "metadata": {
  "kernelspec": {
   "display_name": "Python 3.10.8 64-bit",
   "language": "python",
   "name": "python3"
  },
  "language_info": {
   "codemirror_mode": {
    "name": "ipython",
    "version": 3
   },
   "file_extension": ".py",
   "mimetype": "text/x-python",
   "name": "python",
   "nbconvert_exporter": "python",
   "pygments_lexer": "ipython3",
   "version": "3.10.8"
  },
  "orig_nbformat": 4,
  "vscode": {
   "interpreter": {
    "hash": "aee8b7b246df8f9039afb4144a1f6fd8d2ca17a180786b69acc140d282b71a49"
   }
  }
 },
 "nbformat": 4,
 "nbformat_minor": 2
}
